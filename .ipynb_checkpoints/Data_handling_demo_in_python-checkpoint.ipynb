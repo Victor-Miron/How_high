{
 "cells": [
  {
   "cell_type": "code",
   "execution_count": null,
   "id": "9cc10992",
   "metadata": {},
   "outputs": [],
   "source": [
    "\n",
    "# Data Handling Demo\n",
    "\n",
    "# This script demonstrates data manipulation techniques in Python.\n",
    "# Below is the code from the original Data_handling_demo_in_python.py script.\n",
    "\n",
    "# Import necessary libraries\n",
    "import pandas as pd\n",
    "import numpy as np\n",
    "\n",
    "# Example data manipulation\n",
    "data = {\n",
    "    'driver': ['Hamilton', 'Verstappen', 'Leclerc', 'Norris', 'Bottas'],\n",
    "    'team': ['Mercedes', 'Red Bull', 'Ferrari', 'McLaren', 'Alfa Romeo'],\n",
    "    'points': [347, 226, 162, 160, 55]\n",
    "}\n",
    "\n",
    "df = pd.DataFrame(data)\n",
    "\n",
    "# Data operations\n",
    "df['points_per_race'] = df['points'] / 22\n",
    "df_sorted = df.sort_values(by='points', ascending=False)\n",
    "\n",
    "print(df_sorted)\n",
    "\n",
    "# Additional data handling techniques can be added here\n"
   ]
  }
 ],
 "metadata": {},
 "nbformat": 4,
 "nbformat_minor": 5
}
